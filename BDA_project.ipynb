{
  "nbformat": 4,
  "nbformat_minor": 0,
  "metadata": {
    "colab": {
      "name": "BDA_project.ipynb",
      "provenance": [],
      "collapsed_sections": [],
      "toc_visible": true
    },
    "kernelspec": {
      "name": "python3",
      "display_name": "Python 3"
    },
    "accelerator": "GPU"
  },
  "cells": [
    {
      "cell_type": "markdown",
      "metadata": {
        "id": "kJGkdhjO5mpl"
      },
      "source": [
        "# Bayesian Data Analysis - Project Work"
      ]
    },
    {
      "cell_type": "markdown",
      "metadata": {
        "id": "gq2u9_akA0UC"
      },
      "source": [
        "## Introduction"
      ]
    },
    {
      "cell_type": "markdown",
      "metadata": {
        "id": "3cYQhWTSChQA"
      },
      "source": [
        "We have selected for our problem to analyse how precipitation has changed among the years from 1981 to 2010 in Helsinki and whether it is rising. In this case, our approach is to use bayesian methods to regress a predictive model into the precipitation data, which we have obtained from Ilmatieteenlaitos (https://en.ilmatieteenlaitos.fi/statistics-from-1961-onwards). We have described our problem and approach more precisely in the following introduction sub chapters \"Description of the data and the problem\", \"Description of the model\" and \"Description of the prior choices\"."
      ]
    },
    {
      "cell_type": "markdown",
      "metadata": {
        "id": "Alh5BmxBqOny"
      },
      "source": [
        "### Description of the data and the problem\n"
      ]
    },
    {
      "cell_type": "markdown",
      "metadata": {
        "id": "KI_X9urfqZHr"
      },
      "source": [
        "In this project we are going to apply linear regression to analyze whether precipitation in Helsinki is rising. We are going to use yearly precipitation data from https://en.ilmatieteenlaitos.fi/statistics-from-1961-onwards, which contains 57 data points (from year 1961 to 2017). The data points include the year, the precipitation for the year and precipitation percentage from 1981-2010 average. In this case, we are going to ignore the precipitation percentage for simplicity, and focus only on one feature. The feature is the year and the target is the precipitation for the year. Below, we have plotted the data points."
      ]
    },
    {
      "cell_type": "code",
      "metadata": {
        "id": "RYPnR1VkNHnz"
      },
      "source": [
        "import pandas as pd\n",
        "%matplotlib inline\n",
        "import matplotlib as mpl\n",
        "import matplotlib.pyplot as plt\n",
        "from IPython.display import display, HTML\n",
        "import numpy as np"
      ],
      "execution_count": null,
      "outputs": []
    },
    {
      "cell_type": "code",
      "metadata": {
        "id": "AOSSQf_7qwWR",
        "colab": {
          "base_uri": "https://localhost:8080/",
          "height": 768
        },
        "outputId": "af3cec3b-b631-405c-89f1-e89cd4d8a1eb"
      },
      "source": [
        "df_helsinki = pd.read_csv(\"helsinki.csv\", sep=';')\n",
        "display(HTML(df_helsinki.head(5).to_html(max_rows=5)))\n",
        "plt.plot(df_helsinki.Category.values, df_helsinki.Precipitation, label=(\"Average precipitation in a year\"))           \n",
        "plt.title(r'$\\bf{Figure\\ 1.}$ Precipitation')\n",
        "plt.xlabel('year')\n",
        "plt.ylabel('precipitation')\n",
        "plt.xticks(rotation=20)\n",
        "plt.legend()\n",
        "\n",
        "plt.figure()\n",
        "plt.scatter(np.array(df_helsinki.Category.values), np.array(df_helsinki.Precipitation.values), label=(\"Average precipitation\"))    \n",
        "plt.title('Precipitation')\n",
        "plt.xlabel('year')\n",
        "plt.ylabel('precipitation')\n",
        "\n",
        "plt.show()\n",
        "\n"
      ],
      "execution_count": null,
      "outputs": [
        {
          "output_type": "display_data",
          "data": {
            "text/html": [
              "<table border=\"1\" class=\"dataframe\">\n",
              "  <thead>\n",
              "    <tr style=\"text-align: right;\">\n",
              "      <th></th>\n",
              "      <th>Category</th>\n",
              "      <th>Precipitation</th>\n",
              "      <th>Precipitation percentage from 1981-2010 average</th>\n",
              "    </tr>\n",
              "  </thead>\n",
              "  <tbody>\n",
              "    <tr>\n",
              "      <th>0</th>\n",
              "      <td>1961</td>\n",
              "      <td>570.6</td>\n",
              "      <td>87</td>\n",
              "    </tr>\n",
              "    <tr>\n",
              "      <th>1</th>\n",
              "      <td>1962</td>\n",
              "      <td>751.1</td>\n",
              "      <td>114</td>\n",
              "    </tr>\n",
              "    <tr>\n",
              "      <th>2</th>\n",
              "      <td>1963</td>\n",
              "      <td>529.5</td>\n",
              "      <td>81</td>\n",
              "    </tr>\n",
              "    <tr>\n",
              "      <th>3</th>\n",
              "      <td>1964</td>\n",
              "      <td>462.7</td>\n",
              "      <td>71</td>\n",
              "    </tr>\n",
              "    <tr>\n",
              "      <th>4</th>\n",
              "      <td>1965</td>\n",
              "      <td>601.0</td>\n",
              "      <td>92</td>\n",
              "    </tr>\n",
              "  </tbody>\n",
              "</table>"
            ],
            "text/plain": [
              "<IPython.core.display.HTML object>"
            ]
          },
          "metadata": {
            "tags": []
          }
        },
        {
          "output_type": "display_data",
          "data": {
            "image/png": "[encoded data removed]",
            "text/plain": [
              "<matplotlib.figure.Figure at 0x7fd57e45ad30>"
            ]
          },
          "metadata": {
            "tags": []
          }
        },
        {
          "output_type": "display_data",
          "data": {
            "image/png": "[encoded data removed]",
            "text/plain": [
              "<matplotlib.figure.Figure at 0x7fd557a5fd68>"
            ]
          },
          "metadata": {
            "tags": []
          }
        }
      ]
    },
    {
      "cell_type": "markdown",
      "metadata": {
        "id": "Wc5xY3DTr3VY"
      },
      "source": [
        "The data is balanced, but the values have high range, thus it is necessary to standardize the data before the process. To make it clear, we have tabulated only the five first data points to get an overview of the raw data."
      ]
    },
    {
      "cell_type": "markdown",
      "metadata": {
        "id": "puTbIZOYftSY"
      },
      "source": [
        "### Description of the model\n",
        "\n",
        "To analyze whether precipitation is rising, we will implement a linear Gaussian model with adjustable priors. As can be seen from the plots above, there is quite a bit of seemingly random variation in the data. We will try to explain the variation in the data with the Gaussian model. In other words, the model for the precipitation is y ~ N(mu, sigma), where mu = alpha + beta*x. The variable x represents the year.\n",
        "\n",
        "We will standardize the data, as the x values, or the years, are far away from zero. This removes the strong posterior dependency between alpha and beta, which are the parameters for the model. After the necessary calculations, we will transform the values back to the original scale."
      ]
    },
    {
      "cell_type": "markdown",
      "metadata": {
        "id": "FgD8cn2zzqOu"
      },
      "source": [
        "### Description of the prior choices\n",
        "\n",
        "The goal for prior choices is to rule out unreasonable parameter values but not to be so strong as to rule out values that make sense. The idea is that the loss in precision by making the prior a bit too weak is less serious than the gain in robustness by including parts of parameter space that might be relevant. Thus, we will use conjugate, weakly informative priors.\n",
        "\n",
        "The precipitations are yearly averages, which makes it somewhat likely that they are normally distributed. Additionally, we believe that a priori increase or decrease are as likely. The first prior we test is for both alpha and beta N(0, 1), which is suitable and generally used for standardized data. However, it is possible that this prior is too restrictive. For this reason, we will also test a very weak prior N(0, 10) for both alpha and beta."
      ]
    },
    {
      "cell_type": "code",
      "metadata": {
        "id": "ZFQ3ARaNfkpW",
        "colab": {
          "base_uri": "https://localhost:8080/",
          "height": 190
        },
        "outputId": "93a0bd54-f2e0-4110-86bc-df10f4685ffa"
      },
      "source": [
        "!pip install pystan"
      ],
      "execution_count": null,
      "outputs": [
        {
          "output_type": "stream",
          "text": [
            "Collecting pystan\n",
            "\u001b[?25l  Downloading https://files.pythonhosted.org/packages/49/f9/106f3db81cf4da1be937a11b63f400d072718662f3fd1349ea7f0458aa0f/pystan-2.18.0.0-cp36-cp36m-manylinux1_x86_64.whl (50.0MB)\n",
            "\u001b[K    100% |████████████████████████████████| 50.0MB 932kB/s \n",
            "\u001b[?25hRequirement already satisfied: numpy>=1.7 in /usr/local/lib/python3.6/dist-packages (from pystan) (1.14.6)\n",
            "Collecting Cython!=0.25.1,>=0.22 (from pystan)\n",
            "\u001b[?25l  Downloading https://files.pythonhosted.org/packages/a2/e0/0592be5b851c8013aa253592606ca265862d27444d908e029fd75d563c9c/Cython-0.29.1-cp36-cp36m-manylinux1_x86_64.whl (2.1MB)\n",
            "\u001b[K    100% |████████████████████████████████| 2.1MB 10.7MB/s \n",
            "\u001b[?25hInstalling collected packages: Cython, pystan\n",
            "Successfully installed Cython-0.29.1 pystan-2.18.0.0\n"
          ],
          "name": "stdout"
        }
      ]
    },
    {
      "cell_type": "code",
      "metadata": {
        "id": "83QWyBCI4mKR"
      },
      "source": [
        "import pystan"
      ],
      "execution_count": null,
      "outputs": []
    },
    {
      "cell_type": "code",
      "metadata": {
        "id": "7Ux8v9W94DqG"
      },
      "source": [
        "def compile_model(filename):\n",
        "    with open(filename) as f:\n",
        "        model_code = f.read()\n",
        "        sm = pystan.StanModel(model_code=model_code)\n",
        "\n",
        "        return sm\n",
        "      \n",
        "def check_div(fit):\n",
        "    \"\"\"Check transitions that ended with a divergence\"\"\"\n",
        "    sampler_params = fit.get_sampler_params(inc_warmup=False)\n",
        "    divergent = [x for y in sampler_params for x in y['divergent__']]\n",
        "    n = sum(divergent)\n",
        "    N = len(divergent)\n",
        "    print('{} of {} iterations ended with a divergence ({}%)'.format(n, N,\n",
        "            100 * n / N))\n",
        "    if n > 0:\n",
        "        print('Try running with larger adapt_delta to remove the divergences')\n",
        "\n",
        "def check_treedepth(fit, max_depth = 10):\n",
        "    \"\"\"Check transitions that ended prematurely due to maximum tree depth limit\"\"\"\n",
        "    sampler_params = fit.get_sampler_params(inc_warmup=False)\n",
        "    depths = [x for y in sampler_params for x in y['treedepth__']]\n",
        "    n = sum(1 for x in depths if x == max_depth)\n",
        "    N = len(depths)\n",
        "    print(('{} of {} iterations saturated the maximum tree depth of {}'\n",
        "            + ' ({}%)').format(n, N, max_depth, 100 * n / N))\n",
        "    if n > 0:\n",
        "        print('Run again with max_depth set to a larger value to avoid saturation')\n",
        "\n",
        "def check_energy(fit):\n",
        "    \"\"\"Checks the energy Bayesian fraction of missing information (E-BFMI)\"\"\"\n",
        "    sampler_params = fit.get_sampler_params(inc_warmup=False)\n",
        "    for chain_num, s in enumerate(sampler_params):\n",
        "        energies = s['energy__']\n",
        "        numer = sum((energies[i] - energies[i - 1])**2 for i in range(1, len(energies))) / len(energies)\n",
        "        denom = np.var(energies)\n",
        "        if numer / denom < 0.2:\n",
        "            print('Chain {}: E-BFMI = {}'.format(chain_num, numer / denom))\n",
        "            print('E-BFMI below 0.2 indicates you may need to reparameterize your model')"
      ],
      "execution_count": null,
      "outputs": []
    },
    {
      "cell_type": "code",
      "metadata": {
        "id": "VGrmEh4d4UwT"
      },
      "source": [
        "x = df_helsinki.Category.values\n",
        "y = df_helsinki.Precipitation\n",
        "N = len(x)\n",
        "xpred = 2018\n",
        "\n",
        "data_weak_priors = dict(\n",
        "    N=N,\n",
        "    x=x,\n",
        "    y=y,\n",
        "    xpred=xpred,\n",
        "    pmualpha=0,\n",
        "    psalpha=1,\n",
        "    pmubeta=0,\n",
        "    psbeta=1\n",
        ")\n",
        "\n",
        "data_super_weak_priors = dict(\n",
        "    N=N,\n",
        "    x=x,\n",
        "    y=y,\n",
        "    xpred=xpred,\n",
        "    pmualpha=0,\n",
        "    psalpha=10,\n",
        "    pmubeta=0,\n",
        "    psbeta=10\n",
        ")"
      ],
      "execution_count": null,
      "outputs": []
    },
    {
      "cell_type": "markdown",
      "metadata": {
        "id": "LdsAo3wzCHG2"
      },
      "source": [
        "## Run Stan"
      ]
    },
    {
      "cell_type": "code",
      "metadata": {
        "id": "BJsrBOGcCKrb",
        "colab": {
          "base_uri": "https://localhost:8080/",
          "height": 88
        },
        "outputId": "08d2ad64-539b-4731-8d58-47eb8cc0d34f"
      },
      "source": [
        "model = compile_model('linear_gaussian.stan')\n",
        "fit = model.sampling(data=data_weak_priors, seed=194838)\n",
        "super_weak_fit = model.sampling(data=data_super_weak_priors, seed=194838)"
      ],
      "execution_count": null,
      "outputs": [
        {
          "output_type": "stream",
          "text": [
            "INFO:pystan:COMPILING THE C++ CODE FOR MODEL anon_model_e067c71047389aa094a5d1c16ea328ae NOW.\n",
            "/usr/local/lib/python3.6/dist-packages/Cython/Compiler/Main.py:367: FutureWarning: Cython directive 'language_level' not set, using 2 for now (Py2). This will change in a later release! File: /tmp/tmp_8461nie/stanfit4anon_model_e067c71047389aa094a5d1c16ea328ae_1077319695997290516.pyx\n",
            "  tree = Parsing.p_module(s, pxd, full_module_name)\n"
          ],
          "name": "stderr"
        }
      ]
    },
    {
      "cell_type": "markdown",
      "metadata": {
        "id": "gBbcDm4gC3eG"
      },
      "source": [
        "Check the n_eff and Rhat for model with priors N(0, 1):"
      ]
    },
    {
      "cell_type": "code",
      "metadata": {
        "id": "Bg-ER_WP9MwG",
        "colab": {
          "base_uri": "https://localhost:8080/",
          "height": 3196
        },
        "outputId": "b848cff4-df73-4b3e-96ed-6b0ffed9a194"
      },
      "source": [
        "print(fit)"
      ],
      "execution_count": null,
      "outputs": [
        {
          "output_type": "stream",
          "text": [
            "Inference for Stan model: anon_model_e067c71047389aa094a5d1c16ea328ae.\n",
            "4 chains, each with iter=2000; warmup=1000; thin=1; \n",
            "post-warmup draws per chain=1000, total post-warmup draws=4000.\n",
            "\n",
            "              mean se_mean     sd   2.5%    25%    50%    75%  97.5%  n_eff   Rhat\n",
            "alpha       8.9e-4  2.2e-3   0.13  -0.26  -0.09 2.7e-4   0.09   0.26   3741    1.0\n",
            "beta          0.27  2.2e-3   0.13 1.2e-3   0.18   0.27   0.35   0.53   3728    1.0\n",
            "sigma_std     0.99  1.6e-3    0.1   0.82   0.92   0.98   1.05   1.21   3675    1.0\n",
            "mu_std[1]    -0.45  4.3e-3   0.26  -0.96  -0.63  -0.46  -0.28   0.08   3719    1.0\n",
            "mu_std[2]    -0.43  4.2e-3   0.26  -0.93   -0.6  -0.44  -0.27   0.08   3715    1.0\n",
            "mu_std[3]    -0.42  4.1e-3   0.25   -0.9  -0.58  -0.42  -0.26   0.08   3712    1.0\n",
            "mu_std[4]     -0.4  4.0e-3   0.24  -0.87  -0.56  -0.41  -0.24   0.08   3709    1.0\n",
            "mu_std[5]    -0.39  3.9e-3   0.24  -0.84  -0.54  -0.39  -0.23   0.08   3705    1.0\n",
            "mu_std[6]    -0.37  3.8e-3   0.23  -0.81  -0.52  -0.37  -0.22   0.09   3702    1.0\n",
            "mu_std[7]    -0.35  3.7e-3   0.22  -0.78   -0.5  -0.36  -0.21   0.09   3699    1.0\n",
            "mu_std[8]    -0.34  3.5e-3   0.22  -0.75  -0.48  -0.34   -0.2   0.09   3695    1.0\n",
            "mu_std[9]    -0.32  3.4e-3   0.21  -0.72  -0.46  -0.32  -0.19    0.1   3692    1.0\n",
            "mu_std[10]   -0.31  3.3e-3    0.2  -0.69  -0.44  -0.31  -0.17    0.1   3688    1.0\n",
            "mu_std[11]   -0.29  3.3e-3    0.2  -0.67  -0.42  -0.29  -0.16   0.11   3685    1.0\n",
            "mu_std[12]   -0.27  3.2e-3   0.19  -0.64   -0.4  -0.28  -0.15   0.11   3681    1.0\n",
            "mu_std[13]   -0.26  3.1e-3   0.19  -0.61  -0.38  -0.26  -0.13   0.12   3678    1.0\n",
            "mu_std[14]   -0.24  3.0e-3   0.18  -0.59  -0.36  -0.24  -0.12   0.12   3676    1.0\n",
            "mu_std[15]   -0.23  2.9e-3   0.17  -0.56  -0.34  -0.23  -0.11   0.13   3673    1.0\n",
            "mu_std[16]   -0.21  2.8e-3   0.17  -0.53  -0.32  -0.21   -0.1   0.13   3671    1.0\n",
            "mu_std[17]   -0.19  2.7e-3   0.16  -0.51   -0.3  -0.19  -0.08   0.14   3670    1.0\n",
            "mu_std[18]   -0.18  2.6e-3   0.16  -0.49  -0.28  -0.18  -0.07   0.14   3669    1.0\n",
            "mu_std[19]   -0.16  2.6e-3   0.16  -0.46  -0.26  -0.16  -0.06   0.15   3669    1.0\n",
            "mu_std[20]   -0.14  2.5e-3   0.15  -0.44  -0.24  -0.14  -0.05   0.16   3670    1.0\n",
            "mu_std[21]   -0.13  2.4e-3   0.15  -0.42  -0.23  -0.13  -0.03   0.17   3672    1.0\n",
            "mu_std[22]   -0.11  2.4e-3   0.14   -0.4  -0.21  -0.11  -0.02   0.17   3675    1.0\n",
            "mu_std[23]    -0.1  2.3e-3   0.14  -0.37  -0.19   -0.1-5.3e-3   0.18   3680    1.0\n",
            "mu_std[24]   -0.08  2.3e-3   0.14  -0.35  -0.17  -0.08   0.01   0.19   3686    1.0\n",
            "mu_std[25]   -0.06  2.2e-3   0.14  -0.33  -0.16  -0.06   0.03    0.2   3694    1.0\n",
            "mu_std[26]   -0.05  2.2e-3   0.13  -0.31  -0.14  -0.05   0.04   0.22   3704    1.0\n",
            "mu_std[27]   -0.03  2.2e-3   0.13  -0.29  -0.12  -0.03   0.06   0.23   3715    1.0\n",
            "mu_std[28]   -0.02  2.2e-3   0.13  -0.27   -0.1  -0.02   0.07   0.25   3727    1.0\n",
            "mu_std[29]  8.9e-4  2.2e-3   0.13  -0.26  -0.09 2.7e-4   0.09   0.26   3741    1.0\n",
            "mu_std[30]    0.02  2.2e-3   0.13  -0.24  -0.07   0.02   0.11   0.28   3755    1.0\n",
            "mu_std[31]    0.03  2.2e-3   0.13  -0.23  -0.06   0.03   0.12    0.3   3765    1.0\n",
            "mu_std[32]    0.05  2.2e-3   0.13  -0.21  -0.04   0.05   0.14   0.31   3716    1.0\n",
            "mu_std[33]    0.07  2.2e-3   0.14   -0.2  -0.03   0.06   0.16   0.33   3711    1.0\n",
            "mu_std[34]    0.08  2.3e-3   0.14  -0.19  -0.01   0.08   0.17   0.35   3685    1.0\n",
            "mu_std[35]     0.1  2.3e-3   0.14  -0.18 1.8e-3    0.1   0.19   0.37   3671    1.0\n",
            "mu_std[36]    0.11  2.4e-3   0.14  -0.17   0.02   0.11   0.21   0.39   3672    1.0\n",
            "mu_std[37]    0.13  2.4e-3   0.15  -0.15   0.03   0.13   0.23   0.42   3675    1.0\n",
            "mu_std[38]    0.15  2.5e-3   0.15  -0.14   0.05   0.14   0.25   0.44   3679    1.0\n",
            "mu_std[39]    0.16  2.5e-3   0.15  -0.13   0.06   0.16   0.27   0.46   3683    1.0\n",
            "mu_std[40]    0.18  2.6e-3   0.16  -0.12   0.07   0.18   0.29   0.49   3689    1.0\n",
            "mu_std[41]    0.19  2.7e-3   0.16  -0.12   0.09   0.19    0.3   0.51   3696    1.0\n",
            "mu_std[42]    0.21  2.7e-3   0.17  -0.11    0.1   0.21   0.32   0.54   3703    1.0\n",
            "mu_std[43]    0.23  2.8e-3   0.17  -0.11   0.11   0.22   0.34   0.56   3710    1.0\n",
            "mu_std[44]    0.24  2.9e-3   0.18   -0.1   0.12   0.24   0.36   0.59   3707    1.0\n",
            "mu_std[45]    0.26  3.0e-3   0.18  -0.09   0.14   0.26   0.38   0.62   3705    1.0\n",
            "mu_std[46]    0.28  3.1e-3   0.19  -0.09   0.15   0.27    0.4   0.65   3704    1.0\n",
            "mu_std[47]    0.29  3.2e-3   0.19  -0.08   0.16   0.29   0.42   0.67   3702    1.0\n",
            "mu_std[48]    0.31  3.3e-3    0.2  -0.08   0.17    0.3   0.44    0.7   3701    1.0\n",
            "mu_std[49]    0.32  3.4e-3   0.21  -0.07   0.19   0.32   0.46   0.73   3700    1.0\n",
            "mu_std[50]    0.34  3.5e-3   0.21  -0.07    0.2   0.33   0.48   0.76   3700    1.0\n",
            "mu_std[51]    0.36  3.6e-3   0.22  -0.07   0.21   0.35    0.5   0.79   3699    1.0\n",
            "mu_std[52]    0.37  3.7e-3   0.22  -0.06   0.22   0.37   0.52   0.82   3699    1.0\n",
            "mu_std[53]    0.39  3.8e-3   0.23  -0.06   0.23   0.38   0.54   0.85   3698    1.0\n",
            "mu_std[54]     0.4  3.9e-3   0.24  -0.05   0.25    0.4   0.56   0.88   3698    1.0\n",
            "mu_std[55]    0.42  4.0e-3   0.24  -0.05   0.26   0.41   0.59   0.91   3698    1.0\n",
            "mu_std[56]    0.44  4.1e-3   0.25  -0.05   0.27   0.43   0.61   0.94   3698    1.0\n",
            "mu_std[57]    0.45  4.2e-3   0.26  -0.05   0.28   0.45   0.63   0.97   3698    1.0\n",
            "mu[1]       591.92    0.47  28.68 536.44 572.81 591.37 610.46 649.78   3719    1.0\n",
            "mu[2]       593.69    0.46  27.92 539.78 575.11 593.11  611.7 649.91   3715    1.0\n",
            "mu[3]       595.45    0.45  27.18 543.08 577.54 594.89 613.06 649.99   3712    1.0\n",
            "mu[4]       597.21    0.43  26.44 546.26 579.77 596.85 614.45  650.1   3709    1.0\n",
            "mu[5]       598.98    0.42  25.71  549.4 581.94 598.66 615.73 650.44   3705    1.0\n",
            "mu[6]       600.74    0.41  24.99  552.5 584.23 600.53  617.0 650.58   3702    1.0\n",
            "mu[7]       602.51     0.4  24.29 555.76 586.58 602.26 618.13 651.01   3699    1.0\n",
            "mu[8]       604.27    0.39  23.59 558.83  588.9 604.02 619.62 651.36   3695    1.0\n",
            "mu[9]       606.03    0.38   22.9 561.98 591.08 605.86  621.0 652.08   3692    1.0\n",
            "mu[10]       607.8    0.37  22.23 565.47 593.14 607.49 622.26 652.56   3688    1.0\n",
            "mu[11]      609.56    0.36  21.57 568.34 595.51 609.28 623.67  653.2   3685    1.0\n",
            "mu[12]      611.33    0.34  20.93 571.21 597.67  611.1 625.09 653.43   3681    1.0\n",
            "mu[13]      613.09    0.33  20.31 574.25 599.81 612.98 626.52 653.93   3678    1.0\n",
            "mu[14]      614.86    0.32   19.7 577.24 601.85 614.75 627.98 654.53   3676    1.0\n",
            "mu[15]      616.62    0.32  19.12  580.0 603.89 616.55 629.34 654.91   3673    1.0\n",
            "mu[16]      618.38    0.31  18.56 583.02 606.13 618.49 630.71 655.43   3671    1.0\n",
            "mu[17]      620.15     0.3  18.02 585.46 608.15 620.28 632.09 656.28   3670    1.0\n",
            "mu[18]      621.91    0.29  17.51 588.04 610.17 621.94 633.44 657.03   3669    1.0\n",
            "mu[19]      623.68    0.28  17.03 590.82 612.31 623.63 634.89 657.84   3669    1.0\n",
            "mu[20]      625.44    0.27  16.58 593.28 614.45 625.59  636.3 658.81   3670    1.0\n",
            "mu[21]      627.21    0.27  16.17 595.39 616.46 627.29 637.57 659.55   3672    1.0\n",
            "mu[22]      628.97    0.26   15.8 597.82 618.45  629.0  639.1 660.15   3675    1.0\n",
            "mu[23]      630.73    0.25  15.46 600.68 620.43 630.78 640.65 661.32   3680    1.0\n",
            "mu[24]       632.5    0.25  15.17 603.36 622.36 632.45 642.33 662.34   3686    1.0\n",
            "mu[25]      634.26    0.25  14.93 605.55 624.24 634.14 644.01  663.6   3694    1.0\n",
            "mu[26]      636.03    0.24  14.73 607.74 626.13 635.93 645.82 664.85   3704    1.0\n",
            "mu[27]      637.79    0.24  14.58 609.67 628.01 637.73 647.59 666.46   3715    1.0\n",
            "mu[28]      639.56    0.24  14.49 611.28 629.85  639.5 649.27 668.43   3727    1.0\n",
            "mu[29]      641.32    0.24  14.44 613.01 631.54 641.25 651.04 670.04   3741    1.0\n",
            "mu[30]      643.08    0.24  14.45 614.72 633.26 642.95 652.79 671.78   3755    1.0\n",
            "mu[31]      644.85    0.24  14.51 616.52  635.1  644.7 654.64 673.58   3765    1.0\n",
            "mu[32]      646.61    0.24  14.63 618.13 636.88 646.58 656.53 675.64   3716    1.0\n",
            "mu[33]      648.38    0.24  14.79 619.61 638.43 648.28 658.47 677.75   3711    1.0\n",
            "mu[34]      650.14    0.25  15.01 620.86  639.9 649.98 660.21 679.85   3685    1.0\n",
            "mu[35]      651.91    0.25  15.27 621.89 641.42 651.68 662.05 682.03   3671    1.0\n",
            "mu[36]      653.67    0.26  15.57 622.89 643.02 653.31 664.23 684.38   3672    1.0\n",
            "mu[37]      655.43    0.26  15.92 624.51 644.63  655.1 666.34 686.93   3675    1.0\n",
            "mu[38]       657.2    0.27  16.31 625.87 646.18 656.86 668.38 689.14   3679    1.0\n",
            "mu[39]      658.96    0.28  16.73 626.73 647.63 658.59 670.43 691.63   3683    1.0\n",
            "mu[40]      660.73    0.28  17.19 627.64 649.03 660.35 672.45 694.28   3689    1.0\n",
            "mu[41]      662.49    0.29  17.68  628.5 650.54 662.12 674.45 697.22   3696    1.0\n",
            "mu[42]      664.26     0.3   18.2 629.08 651.98 663.84 676.46 700.14   3703    1.0\n",
            "mu[43]      666.02    0.31  18.75 629.74 653.32 665.53 678.54 702.85   3710    1.0\n",
            "mu[44]      667.78    0.32  19.32 630.34 654.69 667.33 680.72  706.0   3707    1.0\n",
            "mu[45]      669.55    0.33  19.91  631.1 656.05 669.12  682.9 709.18   3705    1.0\n",
            "mu[46]      671.31    0.34  20.52 631.46 657.37  670.9 685.23 711.91   3704    1.0\n",
            "mu[47]      673.08    0.35  21.15 631.99 658.77 672.56 687.56 714.87   3702    1.0\n",
            "mu[48]      674.84    0.36   21.8  632.5 660.18  674.3 689.79  717.8   3701    1.0\n",
            "mu[49]      676.61    0.37  22.46  633.1 661.59 675.98 691.97 720.88   3700    1.0\n",
            "mu[50]      678.37    0.38  23.14 633.33 662.98  677.7 694.03 724.31   3700    1.0\n",
            "mu[51]      680.13    0.39  23.83 633.95 664.29 679.36 696.26 727.56   3699    1.0\n",
            "mu[52]       681.9     0.4  24.53 634.33 665.52 681.18 698.46 730.73   3699    1.0\n",
            "mu[53]      683.66    0.42  25.24 635.04 666.76  682.9 700.73 733.77   3698    1.0\n",
            "mu[54]      685.43    0.43  25.96 635.49 668.14 684.73 702.98 737.16   3698    1.0\n",
            "mu[55]      687.19    0.44  26.69 635.76  669.4 686.54 705.22 740.52   3698    1.0\n",
            "mu[56]      688.96    0.45  27.43 636.02  670.6 688.18 707.53 743.71   3698    1.0\n",
            "mu[57]      690.72    0.46  28.18 636.16 672.03 689.93 709.79 746.79   3698    1.0\n",
            "sigma       108.35    0.18   10.7  89.31 100.94 107.41 114.98 132.04   3675    1.0\n",
            "ypred       693.82    1.82 111.91 472.14 620.31 691.02  767.9 920.84   3795    1.0\n",
            "log_lik[1]   -5.65  2.2e-3   0.12  -5.91  -5.73  -5.64  -5.57  -5.45   2891    1.0\n",
            "log_lik[2]   -6.72  6.4e-3    0.4   -7.6  -6.95  -6.68  -6.44  -6.05   3870    1.0\n",
            "log_lik[3]   -5.82  2.9e-3   0.17  -6.23  -5.91   -5.8   -5.7  -5.55   3461    1.0\n",
            "log_lik[4]   -6.42  5.1e-3   0.31  -7.14  -6.61  -6.39   -6.2  -5.91   3729    1.0\n",
            "log_lik[5]   -5.63  2.0e-3   0.11  -5.85   -5.7  -5.62  -5.56  -5.43   2913    1.0\n",
            "log_lik[6]   -5.74  2.4e-3   0.14  -6.06  -5.82  -5.73  -5.64   -5.5   3371    1.0\n",
            "log_lik[7]   -5.99  3.2e-3    0.2  -6.43  -6.11  -5.97  -5.85  -5.67   3763    1.0\n",
            "log_lik[8]   -5.66  2.0e-3   0.11  -5.89  -5.73  -5.65  -5.58  -5.45   3171    1.0\n",
            "log_lik[9]   -5.94  3.0e-3   0.18  -6.34  -6.05  -5.93  -5.82  -5.65   3571    1.0\n",
            "log_lik[10]  -5.92  2.7e-3   0.17  -6.29  -6.02  -5.91  -5.81  -5.64   3739    1.0\n",
            "log_lik[11]   -6.4  4.2e-3   0.25  -6.97  -6.55  -6.37  -6.22  -5.98   3712    1.0\n",
            "log_lik[12]  -5.65  1.8e-3   0.11  -5.88  -5.72  -5.64  -5.58  -5.45   3332    1.0\n",
            "log_lik[13]  -5.88  2.5e-3   0.15   -6.2  -5.97  -5.87  -5.78  -5.63   3546    1.0\n",
            "log_lik[14]  -7.97  8.6e-3   0.54  -9.18   -8.3  -7.92   -7.6  -7.05   3877    1.0\n",
            "log_lik[15]  -7.14  5.9e-3   0.36  -7.93  -7.37  -7.11  -6.88  -6.53   3803    1.0\n",
            "log_lik[16]  -6.48  3.9e-3   0.23  -6.99  -6.62  -6.46  -6.31  -6.08   3720    1.0\n",
            "log_lik[17]  -6.48  3.7e-3   0.23  -6.98  -6.63  -6.46  -6.31  -6.08   3816    1.0\n",
            "log_lik[18]  -5.65  1.8e-3    0.1  -5.86  -5.71  -5.64  -5.57  -5.45   3392    1.0\n",
            "log_lik[19]  -5.61  1.7e-3    0.1  -5.82  -5.68  -5.61  -5.55  -5.42   3424    1.0\n",
            "log_lik[20]  -5.67  1.7e-3    0.1  -5.88  -5.73  -5.66   -5.6  -5.48   3618    1.0\n",
            "log_lik[21]  -7.86  7.5e-3   0.47  -8.92  -8.14  -7.81  -7.53  -7.05   3872    1.0\n",
            "log_lik[22]  -5.61  1.7e-3    0.1  -5.81  -5.68  -5.61  -5.54  -5.42   3471    1.0\n",
            "log_lik[23]  -5.64  1.7e-3    0.1  -5.84  -5.71  -5.64  -5.57  -5.45   3446    1.0\n",
            "log_lik[24]  -6.12  2.3e-3   0.14  -6.42  -6.21  -6.11  -6.02  -5.87   3771    1.0\n",
            "log_lik[25]  -5.68  1.6e-3    0.1  -5.89  -5.74  -5.68  -5.62   -5.5   3726    1.0\n",
            "log_lik[26]  -6.19  2.4e-3   0.15   -6.5  -6.28  -6.18  -6.08  -5.93   3793    1.0\n",
            "log_lik[27]  -5.65  1.7e-3    0.1  -5.84  -5.71  -5.64  -5.58  -5.46   3452    1.0\n",
            "log_lik[28]  -5.63  1.6e-3    0.1  -5.84   -5.7  -5.63  -5.57  -5.45   3657    1.0\n",
            "log_lik[29]  -5.61  1.6e-3    0.1  -5.82  -5.68  -5.61  -5.54  -5.42   3572    1.0\n",
            "log_lik[30]  -5.92  1.8e-3   0.11  -6.15  -5.99  -5.91  -5.84  -5.71   3792    1.0\n",
            "log_lik[31]   -5.7  1.7e-3    0.1  -5.91  -5.77   -5.7  -5.63  -5.51   3415    1.0\n",
            "log_lik[32]  -5.64  1.6e-3    0.1  -5.84   -5.7  -5.64  -5.57  -5.45   3688    1.0\n",
            "log_lik[33]  -5.83  1.9e-3   0.11  -6.05   -5.9  -5.83  -5.75  -5.63   3307    1.0\n",
            "log_lik[34]  -5.62  1.6e-3    0.1  -5.82  -5.68  -5.61  -5.55  -5.43   3582    1.0\n",
            "log_lik[35]  -6.01  2.2e-3   0.13  -6.28   -6.1   -6.0  -5.92  -5.78   3424    1.0\n",
            "log_lik[36]  -5.62  1.7e-3    0.1  -5.83  -5.69  -5.62  -5.56  -5.43   3388    1.0\n",
            "log_lik[37]  -7.43  6.0e-3   0.38  -8.27  -7.66   -7.4  -7.17  -6.77   3942    1.0\n",
            "log_lik[38]  -5.99  2.1e-3   0.13  -6.28  -6.08  -5.99   -5.9  -5.75   3932    1.0\n",
            "log_lik[39]  -5.66  1.8e-3    0.1  -5.87  -5.73  -5.66  -5.59  -5.47   3281    1.0\n",
            "log_lik[40]   -5.7  1.9e-3   0.11  -5.91  -5.76  -5.69  -5.62  -5.49   3262    1.0\n",
            "log_lik[41]   -5.7  1.7e-3   0.11  -5.93  -5.77   -5.7  -5.63   -5.5   3766    1.0\n",
            "log_lik[42]   -8.7    0.01   0.65  -10.1   -9.1  -8.65  -8.24  -7.56   3967    1.0\n",
            "log_lik[43]  -6.02  2.7e-3   0.16  -6.37  -6.12   -6.0  -5.91  -5.75   3531    1.0\n",
            "log_lik[44]  -6.75  4.9e-3    0.3   -7.4  -6.94  -6.73  -6.54  -6.24   3630    1.0\n",
            "log_lik[45]  -5.63  1.8e-3    0.1  -5.84   -5.7  -5.62  -5.56  -5.43   3145    1.0\n",
            "log_lik[46]  -6.52  4.3e-3   0.27   -7.1  -6.68  -6.49  -6.33  -6.07   3876    1.0\n",
            "log_lik[47]  -5.77  2.1e-3   0.13  -6.05  -5.85  -5.77  -5.68  -5.55   3793    1.0\n",
            "log_lik[48]   -6.3  3.8e-3   0.24  -6.82  -6.45  -6.28  -6.12   -5.9   3812    1.0\n",
            "log_lik[49]  -5.63  1.9e-3    0.1  -5.84   -5.7  -5.62  -5.56  -5.43   3005    1.0\n",
            "log_lik[50]  -5.63  1.9e-3    0.1  -5.84   -5.7  -5.62  -5.56  -5.43   2969    1.0\n",
            "log_lik[51]  -5.83  2.5e-3   0.15  -6.17  -5.92  -5.82  -5.72  -5.57   3795    1.0\n",
            "log_lik[52]  -7.83  9.6e-3   0.58   -9.1  -8.19  -7.79  -7.42  -6.85   3686    1.0\n",
            "log_lik[53]  -6.01  3.6e-3   0.21  -6.49  -6.14  -5.98  -5.86  -5.67   3465    1.0\n",
            "log_lik[54]  -5.95  3.5e-3    0.2  -6.42  -6.07  -5.92  -5.81  -5.64   3389    1.0\n",
            "log_lik[55]  -5.68  2.4e-3   0.13  -5.96  -5.76  -5.67  -5.59  -5.46   2854    1.0\n",
            "log_lik[56]  -5.65  2.2e-3   0.12  -5.89  -5.72  -5.64  -5.57  -5.44   2721    1.0\n",
            "log_lik[57]  -6.15  4.3e-3   0.26  -6.75   -6.3  -6.12  -5.95  -5.72   3840    1.0\n",
            "lp__        -27.39    0.03   1.28 -30.76 -27.97 -27.06 -26.45 -25.95   1895    1.0\n",
            "\n",
            "Samples were drawn using NUTS at Thu Dec  6 09:34:10 2018.\n",
            "For each parameter, n_eff is a crude measure of effective sample size,\n",
            "and Rhat is the potential scale reduction factor on split chains (at \n",
            "convergence, Rhat=1).\n"
          ],
          "name": "stdout"
        }
      ]
    },
    {
      "cell_type": "markdown",
      "metadata": {
        "id": "5LtQrGau7h2b"
      },
      "source": [
        "Check the n_eff and Rhat for model with priors N(0, 10):"
      ]
    },
    {
      "cell_type": "code",
      "metadata": {
        "id": "zOGjDBpo7lQq",
        "colab": {
          "base_uri": "https://localhost:8080/",
          "height": 3196
        },
        "outputId": "1d475322-0f9f-40aa-99cb-f689f8137936"
      },
      "source": [
        "print(super_weak_fit)"
      ],
      "execution_count": null,
      "outputs": [
        {
          "output_type": "stream",
          "text": [
            "Inference for Stan model: anon_model_e067c71047389aa094a5d1c16ea328ae.\n",
            "4 chains, each with iter=2000; warmup=1000; thin=1; \n",
            "post-warmup draws per chain=1000, total post-warmup draws=4000.\n",
            "\n",
            "              mean se_mean     sd   2.5%    25%    50%    75%  97.5%  n_eff   Rhat\n",
            "alpha       1.8e-3  2.2e-3   0.13  -0.26  -0.09 3.6e-3   0.09   0.26   3718    1.0\n",
            "beta          0.28  2.2e-3   0.13   0.02   0.19   0.28   0.36   0.53   3505    1.0\n",
            "sigma_std     0.99  1.7e-3    0.1   0.82   0.92   0.99   1.05   1.21   3222    1.0\n",
            "mu_std[1]    -0.47  4.5e-3   0.26  -0.96  -0.64  -0.47   -0.3   0.05   3394    1.0\n",
            "mu_std[2]    -0.45  4.4e-3   0.25  -0.93  -0.62  -0.45  -0.28   0.06   3400    1.0\n",
            "mu_std[3]    -0.43  4.2e-3   0.25   -0.9   -0.6  -0.43  -0.27   0.06   3408    1.0\n",
            "mu_std[4]    -0.42  4.1e-3   0.24  -0.87  -0.58  -0.42  -0.26   0.06   3416    1.0\n",
            "mu_std[5]     -0.4  4.0e-3   0.23  -0.84  -0.56   -0.4  -0.24   0.06   3424    1.0\n",
            "mu_std[6]    -0.38  3.9e-3   0.23  -0.82  -0.54  -0.38  -0.23   0.07   3433    1.0\n",
            "mu_std[7]    -0.37  3.8e-3   0.22  -0.79  -0.51  -0.37  -0.22   0.07   3443    1.0\n",
            "mu_std[8]    -0.35  3.7e-3   0.22  -0.76  -0.49  -0.35  -0.21   0.08   3453    1.0\n",
            "mu_std[9]    -0.33  3.6e-3   0.21  -0.73  -0.47  -0.33  -0.19   0.08   3464    1.0\n",
            "mu_std[10]   -0.32  3.4e-3    0.2   -0.7  -0.45  -0.32  -0.18   0.09   3476    1.0\n",
            "mu_std[11]    -0.3  3.3e-3    0.2  -0.67  -0.43   -0.3  -0.17    0.1   3489    1.0\n",
            "mu_std[12]   -0.28  3.2e-3   0.19  -0.64  -0.41  -0.28  -0.15    0.1   3502    1.0\n",
            "mu_std[13]   -0.27  3.1e-3   0.19  -0.62  -0.39  -0.27  -0.14   0.11   3516    1.0\n",
            "mu_std[14]   -0.25  3.0e-3   0.18  -0.59  -0.37  -0.25  -0.13   0.11   3531    1.0\n",
            "mu_std[15]   -0.23  2.9e-3   0.18  -0.56  -0.35  -0.23  -0.11   0.12   3547    1.0\n",
            "mu_std[16]   -0.22  2.8e-3   0.17  -0.54  -0.33  -0.22   -0.1   0.12   3563    1.0\n",
            "mu_std[17]    -0.2  2.8e-3   0.17  -0.52  -0.31   -0.2  -0.09   0.13   3580    1.0\n",
            "mu_std[18]   -0.18  2.7e-3   0.16  -0.49  -0.29  -0.18  -0.08   0.13   3597    1.0\n",
            "mu_std[19]   -0.17  2.6e-3   0.16  -0.47  -0.27  -0.17  -0.06   0.14   3614    1.0\n",
            "mu_std[20]   -0.15  2.5e-3   0.15  -0.44  -0.25  -0.15  -0.05   0.15   3632    1.0\n",
            "mu_std[21]   -0.13  2.5e-3   0.15  -0.42  -0.23  -0.13  -0.03   0.16   3648    1.0\n",
            "mu_std[22]   -0.12  2.4e-3   0.15   -0.4  -0.21  -0.12  -0.02   0.17   3664    1.0\n",
            "mu_std[23]    -0.1  2.4e-3   0.14  -0.37  -0.19   -0.1-1.3e-3   0.18   3678    1.0\n",
            "mu_std[24]   -0.08  2.3e-3   0.14  -0.35  -0.17  -0.08   0.01   0.19   3691    1.0\n",
            "mu_std[25]   -0.07  2.3e-3   0.14  -0.33  -0.16  -0.06   0.03   0.21   3701    1.0\n",
            "mu_std[26]   -0.05  2.2e-3   0.14  -0.31  -0.14  -0.05   0.04   0.22   3716    1.0\n",
            "mu_std[27]   -0.03  2.2e-3   0.14  -0.29  -0.12  -0.03   0.06   0.23   3725    1.0\n",
            "mu_std[28]   -0.01  2.2e-3   0.13  -0.27  -0.11  -0.01   0.08   0.24   3722    1.0\n",
            "mu_std[29]  1.8e-3  2.2e-3   0.13  -0.26  -0.09 3.6e-3   0.09   0.26   3718    1.0\n",
            "mu_std[30]    0.02  2.2e-3   0.13  -0.24  -0.07   0.02   0.11   0.27   3712    1.0\n",
            "mu_std[31]    0.04  2.2e-3   0.13  -0.23  -0.06   0.04   0.13   0.29   3705    1.0\n",
            "mu_std[32]    0.05  2.2e-3   0.14  -0.22  -0.04   0.05   0.15   0.31   3696    1.0\n",
            "mu_std[33]    0.07  2.3e-3   0.14   -0.2  -0.02   0.07   0.16   0.33   3688    1.0\n",
            "mu_std[34]    0.09  2.3e-3   0.14  -0.18-9.3e-3   0.09   0.18   0.35   3678    1.0\n",
            "mu_std[35]     0.1  2.3e-3   0.14  -0.17 5.8e-3    0.1    0.2   0.37   3669    1.0\n",
            "mu_std[36]    0.12  2.4e-3   0.14  -0.16   0.02   0.12   0.22    0.4   3659    1.0\n",
            "mu_std[37]    0.14  2.4e-3   0.15  -0.15   0.04   0.14   0.24   0.42   3649    1.0\n",
            "mu_std[38]    0.15  2.5e-3   0.15  -0.14   0.05   0.15   0.26   0.44   3640    1.0\n",
            "mu_std[39]    0.17  2.6e-3   0.16  -0.13   0.06   0.17   0.28   0.47   3631    1.0\n",
            "mu_std[40]    0.19  2.6e-3   0.16  -0.12   0.08   0.19   0.29    0.5   3622    1.0\n",
            "mu_std[41]     0.2  2.7e-3   0.16  -0.11   0.09    0.2   0.31   0.53   3614    1.0\n",
            "mu_std[42]    0.22  2.8e-3   0.17  -0.11    0.1   0.22   0.33   0.55   3606    1.0\n",
            "mu_std[43]    0.24  2.9e-3   0.17   -0.1   0.12   0.24   0.35   0.58   3599    1.0\n",
            "mu_std[44]    0.25  3.0e-3   0.18   -0.1   0.13   0.25   0.37   0.61   3593    1.0\n",
            "mu_std[45]    0.27  3.1e-3   0.18  -0.09   0.14   0.27   0.39   0.64   3587    1.0\n",
            "mu_std[46]    0.29  3.2e-3   0.19  -0.09   0.16   0.29   0.41   0.67   3581    1.0\n",
            "mu_std[47]     0.3  3.3e-3    0.2  -0.08   0.17    0.3   0.43   0.69   3576    1.0\n",
            "mu_std[48]    0.32  3.4e-3    0.2  -0.08   0.18   0.32   0.45   0.72   3572    1.0\n",
            "mu_std[49]    0.34  3.5e-3   0.21  -0.07   0.19   0.34   0.47   0.75   3568    1.0\n",
            "mu_std[50]    0.35  3.6e-3   0.21  -0.07   0.21   0.35   0.49   0.78   3564    1.0\n",
            "mu_std[51]    0.37  3.7e-3   0.22  -0.06   0.22   0.37   0.51   0.81   3561    1.0\n",
            "mu_std[52]    0.39  3.8e-3   0.23  -0.06   0.23   0.39   0.53   0.84   3558    1.0\n",
            "mu_std[53]     0.4  3.9e-3   0.23  -0.06   0.25    0.4   0.55   0.87   3555    1.0\n",
            "mu_std[54]    0.42  4.0e-3   0.24  -0.05   0.26   0.42   0.57    0.9   3552    1.0\n",
            "mu_std[55]    0.44  4.1e-3   0.25  -0.05   0.27   0.44    0.6   0.93   3550    1.0\n",
            "mu_std[56]    0.45  4.2e-3   0.25  -0.04   0.28   0.45   0.62   0.96   3548    1.0\n",
            "mu_std[57]    0.47  4.4e-3   0.26  -0.04    0.3   0.47   0.64   0.99   3546    1.0\n",
            "mu[1]       590.24    0.49  28.54 535.84 571.17 590.04  608.8 646.75   3394    1.0\n",
            "mu[2]       592.07    0.48   27.8 539.02 573.55 591.94 610.19 647.26   3400    1.0\n",
            "mu[3]        593.9    0.46  27.06 542.31 575.76 593.77 611.69 647.51   3408    1.0\n",
            "mu[4]       595.73    0.45  26.33 545.64  578.1 595.53 613.17 647.78   3416    1.0\n",
            "mu[5]       597.56    0.44  25.62 548.98 580.42 597.46 614.47  648.3   3424    1.0\n",
            "mu[6]       599.38    0.43  24.91 552.11 582.72 599.33 615.94 648.66   3433    1.0\n",
            "mu[7]       601.21    0.41  24.21  555.4 585.04 601.26 617.45 649.16   3443    1.0\n",
            "mu[8]       603.04     0.4  23.52 558.58 587.43 603.11 618.66 649.46   3453    1.0\n",
            "mu[9]       604.87    0.39  22.85 561.62 589.75 604.93 620.07 650.24   3464    1.0\n",
            "mu[10]      606.69    0.38  22.19 564.82 592.07 606.77 621.36 651.14   3476    1.0\n",
            "mu[11]      608.52    0.36  21.54 568.18 594.24 608.55 622.85 651.81   3489    1.0\n",
            "mu[12]      610.35    0.35  20.91 571.11 596.48 610.31 624.35 652.39   3502    1.0\n",
            "mu[13]      612.18    0.34   20.3 573.96 598.61  612.1 625.77 653.11   3516    1.0\n",
            "mu[14]       614.0    0.33  19.71 576.77 600.81 613.92 627.24 653.11   3531    1.0\n",
            "mu[15]      615.83    0.32  19.14 579.59 603.09 615.71 628.67 653.88   3547    1.0\n",
            "mu[16]      617.66    0.31  18.59 582.24 605.45 617.48 630.02  654.4   3563    1.0\n",
            "mu[17]      619.49     0.3  18.06 584.68  607.6 619.25 631.42 654.99   3580    1.0\n",
            "mu[18]      621.32    0.29  17.57 587.57 609.73 621.03 632.79 655.91   3597    1.0\n",
            "mu[19]      623.14    0.28   17.1 589.93 611.85 622.95 634.45 656.79   3614    1.0\n",
            "mu[20]      624.97    0.28  16.67 592.83 613.99 624.85 635.95 657.54   3632    1.0\n",
            "mu[21]       626.8    0.27  16.27 595.21 615.98 626.58 637.58  658.6   3648    1.0\n",
            "mu[22]      628.63    0.26  15.92 597.99 618.15 628.51 639.35  659.9   3664    1.0\n",
            "mu[23]      630.45    0.26   15.6 600.58  620.3 630.39 641.08 660.69   3678    1.0\n",
            "mu[24]      632.28    0.25  15.32 603.14  622.2 632.28 642.63 662.22   3691    1.0\n",
            "mu[25]      634.11    0.25  15.09 605.21 624.15  634.2 644.22 663.64   3701    1.0\n",
            "mu[26]      635.94    0.24   14.9 607.21 626.03 635.84 645.91 664.89   3716    1.0\n",
            "mu[27]      637.76    0.24  14.77 609.05 627.88 637.77 647.65 666.32   3725    1.0\n",
            "mu[28]      639.59    0.24  14.68 611.25 629.71 639.72 649.52 667.48   3722    1.0\n",
            "mu[29]      641.42    0.24  14.65 613.26 631.52 641.61 651.31 669.23   3718    1.0\n",
            "mu[30]      643.25    0.24  14.67 614.96  633.2 643.36 653.39 671.14   3712    1.0\n",
            "mu[31]      645.08    0.24  14.74 616.32 635.04 645.16 655.29 673.02   3705    1.0\n",
            "mu[32]       646.9    0.24  14.86 617.55 636.72 646.99 657.22 675.26   3696    1.0\n",
            "mu[33]      648.73    0.25  15.03 619.07 638.51  648.9 659.22 677.64   3688    1.0\n",
            "mu[34]      650.56    0.25  15.25 621.09  640.2 650.77 661.18 679.79   3678    1.0\n",
            "mu[35]      652.39    0.26  15.51  622.5 641.86 652.55 663.21 681.96   3669    1.0\n",
            "mu[36]      654.21    0.26  15.82 623.87 643.53 654.33 665.19 684.46   3659    1.0\n",
            "mu[37]      656.04    0.27  16.17 624.46 645.06  656.2 667.17 687.17   3649    1.0\n",
            "mu[38]      657.87    0.27  16.55 625.44 646.62 657.84  669.3 689.78   3640    1.0\n",
            "mu[39]       659.7    0.28  16.98 626.49 648.01 659.65 671.36 692.72   3631    1.0\n",
            "mu[40]      661.52    0.29  17.43 627.68 649.51 661.51 673.45 695.93   3622    1.0\n",
            "mu[41]      663.35     0.3  17.92 628.81 650.91 663.42 675.56 699.05   3614    1.0\n",
            "mu[42]      665.18    0.31  18.43 629.39 652.44 665.44 677.68 701.83   3606    1.0\n",
            "mu[43]      667.01    0.32  18.97 630.12 653.95 667.19 679.58 704.75   3599    1.0\n",
            "mu[44]      668.84    0.33  19.54 630.77 655.41 669.01 681.66 707.75   3593    1.0\n",
            "mu[45]      670.66    0.34  20.13 631.32 656.89 670.75 683.82 711.06   3587    1.0\n",
            "mu[46]      672.49    0.35  20.73 631.56 658.26 672.58 685.99 714.25   3581    1.0\n",
            "mu[47]      674.32    0.36  21.36 632.19 659.69 674.34 688.08 717.09   3576    1.0\n",
            "mu[48]      676.15    0.37   22.0 632.65 661.22 676.21 690.42 720.16   3572    1.0\n",
            "mu[49]      677.97    0.38  22.65 633.31 662.54 677.91 692.65 723.64   3568    1.0\n",
            "mu[50]       679.8    0.39  23.32 633.85 664.06 679.82 694.91 726.54   3564    1.0\n",
            "mu[51]      681.63     0.4  24.01 634.16 665.45 681.55 697.18 729.53   3561    1.0\n",
            "mu[52]      683.46    0.41   24.7 634.63 666.83 683.39 699.63 732.94   3558    1.0\n",
            "mu[53]      685.29    0.43  25.41  635.0 668.19 685.26 701.75 736.13   3555    1.0\n",
            "mu[54]      687.11    0.44  26.13 635.27 669.46 687.07 703.93 739.56   3552    1.0\n",
            "mu[55]      688.94    0.45  26.85 636.01 670.83  688.8 706.46 742.96   3550    1.0\n",
            "mu[56]      690.77    0.46  27.58 636.42 672.19 690.57 708.85 746.04   3548    1.0\n",
            "mu[57]       692.6    0.48  28.32 636.99 673.48 692.38 711.06  749.2   3546    1.0\n",
            "sigma       108.48    0.19  10.57  89.67 101.03  107.9 115.06 131.75   3222    1.0\n",
            "ypred       695.93    2.01 112.28 477.44 622.38 694.34 770.47 917.73   3125    1.0\n",
            "log_lik[1]   -5.65  2.2e-3   0.12  -5.91  -5.72  -5.64  -5.57  -5.45   2714    1.0\n",
            "log_lik[2]   -6.74  6.7e-3    0.4  -7.65  -6.99   -6.7  -6.46  -6.08   3633    1.0\n",
            "log_lik[3]   -5.81  2.9e-3   0.17   -6.2  -5.91  -5.79  -5.69  -5.54   3390    1.0\n",
            "log_lik[4]    -6.4  4.9e-3   0.31  -7.08  -6.59  -6.37  -6.18   -5.9   3939    1.0\n",
            "log_lik[5]   -5.63  2.0e-3    0.1  -5.84   -5.7  -5.62  -5.56  -5.43   2693    1.0\n",
            "log_lik[6]   -5.73  2.4e-3   0.14  -6.04  -5.81  -5.72  -5.64  -5.51   3192    1.0\n",
            "log_lik[7]    -6.0  3.3e-3    0.2  -6.44  -6.12  -5.98  -5.86  -5.68   3606    1.0\n",
            "log_lik[8]   -5.65  2.1e-3   0.11  -5.89  -5.72  -5.65  -5.58  -5.46   2903    1.0\n",
            "log_lik[9]   -5.93  2.9e-3   0.17  -6.33  -6.04  -5.92  -5.81  -5.64   3648    1.0\n",
            "log_lik[10]  -5.93  2.8e-3   0.17  -6.29  -6.03  -5.91  -5.81  -5.65   3586    1.0\n",
            "log_lik[11]  -6.38  3.9e-3   0.25  -6.93  -6.54  -6.36   -6.2  -5.97   4008    1.0\n",
            "log_lik[12]  -5.65  1.9e-3   0.11  -5.87  -5.72  -5.65  -5.58  -5.46   3018    1.0\n",
            "log_lik[13]  -5.87  2.4e-3   0.14   -6.2  -5.96  -5.86  -5.77  -5.62   3608    1.0\n",
            "log_lik[14]  -7.99  9.2e-3   0.54  -9.16  -8.32  -7.95   -7.6  -7.04   3460    1.0\n",
            "log_lik[15]  -7.12  5.6e-3   0.35   -7.9  -7.34   -7.1  -6.87  -6.52   4012    1.0\n",
            "log_lik[16]  -6.46  3.6e-3   0.23  -6.97  -6.61  -6.45   -6.3  -6.08   4032    1.0\n",
            "log_lik[17]  -6.49  3.8e-3   0.23   -7.0  -6.63  -6.47  -6.32  -6.09   3691    1.0\n",
            "log_lik[18]  -5.65  1.9e-3    0.1  -5.86  -5.71  -5.64  -5.58  -5.46   3006    1.0\n",
            "log_lik[19]  -5.61  1.8e-3    0.1  -5.82  -5.68  -5.61  -5.55  -5.43   2969    1.0\n",
            "log_lik[20]  -5.67  1.8e-3    0.1  -5.87  -5.73  -5.67   -5.6  -5.48   3204    1.0\n",
            "log_lik[21]  -7.86  8.1e-3   0.47  -8.87  -8.16  -7.82  -7.53  -7.06   3412    1.0\n",
            "log_lik[22]  -5.61  1.8e-3    0.1  -5.82  -5.68  -5.61  -5.54  -5.42   3000    1.0\n",
            "log_lik[23]  -5.64  1.8e-3    0.1  -5.85  -5.71  -5.64  -5.57  -5.45   3042    1.0\n",
            "log_lik[24]  -6.12  2.3e-3   0.14  -6.42  -6.21  -6.11  -6.02  -5.88   3783    1.0\n",
            "log_lik[25]  -5.68  1.7e-3    0.1  -5.88  -5.75  -5.68  -5.62   -5.5   3291    1.0\n",
            "log_lik[26]  -6.19  2.4e-3   0.15  -6.51  -6.28  -6.18  -6.08  -5.93   3758    1.0\n",
            "log_lik[27]  -5.65  1.8e-3    0.1  -5.85  -5.71  -5.64  -5.58  -5.46   3073    1.0\n",
            "log_lik[28]  -5.63  1.7e-3    0.1  -5.83   -5.7  -5.63  -5.57  -5.45   3161    1.0\n",
            "log_lik[29]  -5.61  1.8e-3    0.1  -5.81  -5.68  -5.61  -5.55  -5.43   3085    1.0\n",
            "log_lik[30]  -5.92  1.8e-3   0.11  -6.15  -5.99  -5.91  -5.84  -5.72   3709    1.0\n",
            "log_lik[31]  -5.71  1.8e-3    0.1  -5.91  -5.77   -5.7  -5.63  -5.51   3185    1.0\n",
            "log_lik[32]  -5.64  1.7e-3    0.1  -5.84   -5.7  -5.64  -5.58  -5.46   3193    1.0\n",
            "log_lik[33]  -5.83  1.9e-3   0.11  -6.06   -5.9  -5.83  -5.75  -5.63   3438    1.0\n",
            "log_lik[34]  -5.62  1.7e-3    0.1  -5.81  -5.68  -5.62  -5.55  -5.44   3114    1.0\n",
            "log_lik[35]  -6.02  2.1e-3   0.13  -6.28   -6.1  -6.01  -5.92  -5.78   3713    1.0\n",
            "log_lik[36]  -5.63  1.8e-3    0.1  -5.83  -5.69  -5.62  -5.56  -5.44   3068    1.0\n",
            "log_lik[37]  -7.44  6.1e-3   0.37  -8.27  -7.67  -7.41  -7.18  -6.78   3700    1.0\n",
            "log_lik[38]  -5.99  2.2e-3   0.13  -6.28  -6.07  -5.98  -5.89  -5.75   3664    1.0\n",
            "log_lik[39]  -5.67  1.9e-3    0.1  -5.88  -5.74  -5.67   -5.6  -5.47   3123    1.0\n",
            "log_lik[40]   -5.7  1.9e-3   0.11  -5.92  -5.77   -5.7  -5.62   -5.5   3179    1.0\n",
            "log_lik[41]   -5.7  1.8e-3    0.1  -5.92  -5.77   -5.7  -5.63  -5.51   3324    1.0\n",
            "log_lik[42]  -8.71    0.01   0.64  -10.1   -9.1  -8.66  -8.26  -7.59   3555    1.0\n",
            "log_lik[43]  -6.03  2.7e-3   0.16  -6.38  -6.13  -6.02  -5.91  -5.75   3608    1.0\n",
            "log_lik[44]  -6.73  5.0e-3    0.3  -7.41  -6.92  -6.71  -6.52  -6.23   3550    1.0\n",
            "log_lik[45]  -5.63  1.9e-3    0.1  -5.84   -5.7  -5.63  -5.56  -5.44   3016    1.0\n",
            "log_lik[46]  -6.53  4.4e-3   0.27  -7.14  -6.69  -6.51  -6.34  -6.08   3700    1.0\n",
            "log_lik[47]  -5.77  2.2e-3   0.13  -6.05  -5.84  -5.76  -5.68  -5.54   3423    1.0\n",
            "log_lik[48]  -6.28  4.0e-3   0.24  -6.82  -6.43  -6.26  -6.12  -5.88   3617    1.0\n",
            "log_lik[49]  -5.63  1.9e-3    0.1  -5.85   -5.7  -5.63  -5.56  -5.43   2956    1.0\n",
            "log_lik[50]  -5.63  1.9e-3    0.1  -5.85   -5.7  -5.63  -5.56  -5.43   2936    1.0\n",
            "log_lik[51]  -5.82  2.6e-3   0.15  -6.17  -5.91   -5.8  -5.72  -5.57   3471    1.0\n",
            "log_lik[52]   -7.8  9.9e-3   0.58  -9.07  -8.16  -7.74  -7.38  -6.81   3499    1.0\n",
            "log_lik[53]  -6.02  3.6e-3   0.22  -6.52  -6.15   -6.0  -5.87  -5.67   3517    1.0\n",
            "log_lik[54]  -5.97  3.5e-3   0.21  -6.44  -6.08  -5.94  -5.82  -5.63   3476    1.0\n",
            "log_lik[55]  -5.69  2.4e-3   0.13  -5.98  -5.77  -5.68   -5.6  -5.47   3055    1.0\n",
            "log_lik[56]  -5.65  2.2e-3   0.12   -5.9  -5.72  -5.64  -5.57  -5.44   2888    1.0\n",
            "log_lik[57]  -6.13  4.4e-3   0.26  -6.74  -6.28   -6.1  -5.94   -5.7   3601    1.0\n",
            "lp__        -27.33    0.03   1.25 -30.59 -27.91 -26.99  -26.4 -25.91   2027    1.0\n",
            "\n",
            "Samples were drawn using NUTS at Thu Dec  6 09:34:13 2018.\n",
            "For each parameter, n_eff is a crude measure of effective sample size,\n",
            "and Rhat is the potential scale reduction factor on split chains (at \n",
            "convergence, Rhat=1).\n"
          ],
          "name": "stdout"
        }
      ]
    },
    {
      "cell_type": "markdown",
      "metadata": {
        "id": "uTj0_8dc-nOR"
      },
      "source": [
        "Check the treedepth, E-BFMI, and divergences:"
      ]
    },
    {
      "cell_type": "code",
      "metadata": {
        "id": "S5BNsLXW9JMe",
        "colab": {
          "base_uri": "https://localhost:8080/",
          "height": 136
        },
        "outputId": "3aec442b-9b14-43b4-9065-ebbb0a5e19a8"
      },
      "source": [
        "print('Model with priors N(0,1):')\n",
        "check_treedepth(fit)\n",
        "check_energy(fit)\n",
        "check_div(fit)\n",
        "\n",
        "print('\\nModel with priors N(0,10):')\n",
        "check_treedepth(super_weak_fit)\n",
        "check_energy(super_weak_fit)\n",
        "check_div(super_weak_fit)"
      ],
      "execution_count": null,
      "outputs": [
        {
          "output_type": "stream",
          "text": [
            "Model with priors N(0,1):\n",
            "0 of 4000 iterations saturated the maximum tree depth of 10 (0.0%)\n",
            "0.0 of 4000 iterations ended with a divergence (0.0%)\n",
            "\n",
            "Model with priors N(0,10):\n",
            "0 of 4000 iterations saturated the maximum tree depth of 10 (0.0%)\n",
            "0.0 of 4000 iterations ended with a divergence (0.0%)\n"
          ],
          "name": "stdout"
        }
      ]
    },
    {
      "cell_type": "markdown",
      "metadata": {
        "id": "iojCwYv2-yYk"
      },
      "source": [
        "Below we can see that with the standardized data there is not much posterior correlation for either of the models:"
      ]
    },
    {
      "cell_type": "code",
      "metadata": {
        "id": "YGYAYDL494zc",
        "colab": {
          "base_uri": "https://localhost:8080/",
          "height": 311
        },
        "outputId": "f321fcf4-32ef-4374-f1d6-4f2aac20b2e0"
      },
      "source": [
        "samples = fit.extract(permuted=True)\n",
        "super_weak_samples = super_weak_fit.extract(permuted=True)\n",
        "\n",
        "figsize = plt.rcParams['figure.figsize'].copy()\n",
        "figsize[0] *= 2  # width\n",
        "#figsize[1] *= 2.5  # height\n",
        "fig, axes = plt.subplots(1, 2, figsize=figsize)\n",
        "\n",
        "ax = axes[0]\n",
        "ax.scatter(samples['alpha'][:2000], samples['beta'][:2000], 5)\n",
        "ax.set_xlabel('alpha')\n",
        "ax.set_ylabel('beta')\n",
        "ax.set_title('N(0,1)')\n",
        "\n",
        "ax = axes[1]\n",
        "ax.scatter(super_weak_samples['alpha'][:2000], super_weak_samples['beta'][:2000], 5)\n",
        "ax.set_xlabel('alpha')\n",
        "ax.set_ylabel('beta')\n",
        "ax.set_title('N(0,10)')"
      ],
      "execution_count": null,
      "outputs": [
        {
          "output_type": "execute_result",
          "data": {
            "text/plain": [
              "Text(0.5,1,'N(0,10)')"
            ]
          },
          "metadata": {
            "tags": []
          },
          "execution_count": 26
        },
        {
          "output_type": "display_data",
          "data": {
            "image/png": "[encoded data removed]",
            "text/plain": [
              "<matplotlib.figure.Figure at 0x7fd54e2e9550>"
            ]
          },
          "metadata": {
            "tags": []
          }
        }
      ]
    },
    {
      "cell_type": "markdown",
      "metadata": {
        "id": "931ZA09J-HmK"
      },
      "source": [
        "Probability that precipitation is increasing:"
      ]
    },
    {
      "cell_type": "code",
      "metadata": {
        "id": "IXLyWh-u-G5d",
        "colab": {
          "base_uri": "https://localhost:8080/",
          "height": 102
        },
        "outputId": "ceaab84d-1b29-4a2a-9592-ec9e45f64b2b"
      },
      "source": [
        "print('Model with priors N(0,1):')\n",
        "print('Pr(beta > 0) = {}'.format(np.mean(samples['beta'] > 0)))\n",
        "\n",
        "print('\\nModel with priors N(0, 10):')\n",
        "print('Pr(beta > 0) = {}'.format(np.mean(super_weak_samples['beta'] > 0)))"
      ],
      "execution_count": null,
      "outputs": [
        {
          "output_type": "stream",
          "text": [
            "Model with priors N(0,1):\n",
            "Pr(beta > 0) = 0.9755\n",
            "\n",
            "Model with priors N(0, 10):\n",
            "Pr(beta > 0) = 0.9815\n"
          ],
          "name": "stdout"
        }
      ]
    },
    {
      "cell_type": "markdown",
      "metadata": {
        "id": "HIjm2iNzY2Lv"
      },
      "source": [
        "Mean of the prediction for the year 2018:"
      ]
    },
    {
      "cell_type": "code",
      "metadata": {
        "id": "x9fHGMWQY6s0",
        "colab": {
          "base_uri": "https://localhost:8080/",
          "height": 68
        },
        "outputId": "14ff28d3-7901-40f2-9d6d-c143ea79eff8"
      },
      "source": [
        "print('Mean of ypred with priors N(0, 1) = {}'.format(np.mean(samples['ypred'])))\n",
        "\n",
        "print('\\nMean of ypred with priors N(0, 10) = {}'.format(np.mean(super_weak_samples['ypred'])))"
      ],
      "execution_count": null,
      "outputs": [
        {
          "output_type": "stream",
          "text": [
            "Mean of ypred with priors N(0, 1) = 693.8226323120855\n",
            "\n",
            "Mean of ypred with priors N(0, 10) = 695.934820174552\n"
          ],
          "name": "stdout"
        }
      ]
    },
    {
      "cell_type": "code",
      "metadata": {
        "id": "luAz84A14bkK",
        "colab": {
          "base_uri": "https://localhost:8080/",
          "height": 729
        },
        "outputId": "5dfb8fe4-b4c6-4ddc-acc4-a989e46af28d"
      },
      "source": [
        "# make slightly wider figure of 3 plots\n",
        "figsize = plt.rcParams['figure.figsize'].copy()\n",
        "figsize[0] *= 2.5  # width\n",
        "figsize[1] *= 2.5  # height\n",
        "fig, axes = plt.subplots(3, 2, figsize=figsize)\n",
        "\n",
        "# plot 1: scatterplot and lines\n",
        "color_scatter = 'C0'  # 'C0' for default color #0\n",
        "color_line = 'C1'     # 'C1' for default color #1\n",
        "# lighten color_line\n",
        "color_shade = (\n",
        "    1 - 0.1*(1 - np.array(mpl.colors.to_rgb(color_line)))\n",
        ")\n",
        "# plot\n",
        "ax = axes[0][0]\n",
        "ax.fill_between(\n",
        "    x,\n",
        "    np.percentile(samples['mu'], 5, axis=0),\n",
        "    np.percentile(samples['mu'], 95, axis=0),\n",
        "    color=color_shade\n",
        ")\n",
        "ax.plot(\n",
        "    x,\n",
        "    np.percentile(samples['mu'], 50, axis=0),\n",
        "    color=color_line,\n",
        "    linewidth=1\n",
        ")\n",
        "ax.scatter(x, y, 5, color=color_scatter)\n",
        "ax.set_xlabel('year')\n",
        "ax.set_ylabel('precipitation')\n",
        "ax.set_xlim((1961, 2017))\n",
        "ax.set_title('N(0,1)')\n",
        "\n",
        "ax = axes[0][1]\n",
        "ax.fill_between(\n",
        "    x,\n",
        "    np.percentile(super_weak_samples['mu'], 5, axis=0),\n",
        "    np.percentile(super_weak_samples['mu'], 95, axis=0),\n",
        "    color=color_shade\n",
        ")\n",
        "ax.plot(\n",
        "    x,\n",
        "    np.percentile(super_weak_samples['mu'], 50, axis=0),\n",
        "    color=color_line,\n",
        "    linewidth=1\n",
        ")\n",
        "ax.scatter(x, y, 5, color=color_scatter)\n",
        "ax.set_xlabel('year')\n",
        "ax.set_ylabel('precipitation')\n",
        "ax.set_xlim((1961, 2017))\n",
        "ax.set_title('N(0,10)')\n",
        "\n",
        "# plot 2: histogram\n",
        "ax = axes[1][0]\n",
        "ax.hist(samples['beta'], 50)\n",
        "ax.set_xlabel('beta')\n",
        "\n",
        "ax = axes[1][1]\n",
        "ax.hist(super_weak_samples['beta'], 50)\n",
        "ax.set_xlabel('beta')\n",
        "\n",
        "# plot 3: histogram\n",
        "ax = axes[2][0]\n",
        "ax.hist(samples['ypred'], 50)\n",
        "ax.set_xlabel('y-prediction for x={}'.format(xpred))\n",
        "\n",
        "ax = axes[2][1]\n",
        "ax.hist(super_weak_samples['ypred'], 50)\n",
        "ax.set_xlabel('y-prediction for x={}'.format(xpred))\n",
        "\n",
        "# make figure compact\n",
        "fig.tight_layout()\n",
        "\n",
        "plt.show()"
      ],
      "execution_count": null,
      "outputs": [
        {
          "output_type": "display_data",
          "data": {
            "image/png": "[encoded data removed]",
            "text/plain": [
              "<matplotlib.figure.Figure at 0x7fd54ea0fac8>"
            ]
          },
          "metadata": {
            "tags": []
          }
        }
      ]
    },
    {
      "cell_type": "markdown",
      "metadata": {
        "id": "Dy7t2qwX7_xB"
      },
      "source": [
        "### The Stan Code"
      ]
    },
    {
      "cell_type": "code",
      "metadata": {
        "id": "IPeFOP918K68",
        "colab": {
          "base_uri": "https://localhost:8080/",
          "height": 765
        },
        "outputId": "4cf19c9c-8741-4875-dbc6-c8543fb7c6a8"
      },
      "source": [
        "with open('linear_gaussian.stan') as file:\n",
        "    print(file.read())"
      ],
      "execution_count": null,
      "outputs": [
        {
          "output_type": "stream",
          "text": [
            "// Gaussian linear model with standardized data\n",
            "data {\n",
            "  int<lower=0> N; // number of data points\n",
            "  vector[N] x; //\n",
            "  vector[N] y; //\n",
            "  real xpred; // input location for prediction\n",
            "  real pmualpha; // prior mean for alpha\n",
            "  real psalpha;  // prior std for alpha\n",
            "  real pmubeta;  // prior mean for beta\n",
            "  real psbeta;   // prior std for beta\n",
            "}\n",
            "transformed data {\n",
            "  vector[N] x_std;\n",
            "  vector[N] y_std;\n",
            "  real xpred_std;\n",
            "  x_std = (x - mean(x)) / sd(x);\n",
            "  y_std = (y - mean(y)) / sd(y);\n",
            "  xpred_std = (xpred - mean(x)) / sd(x);\n",
            "}\n",
            "parameters {\n",
            "  real alpha;\n",
            "  real beta;\n",
            "  real<lower=0> sigma_std;\n",
            "}\n",
            "transformed parameters {\n",
            "  vector[N] mu_std;\n",
            "  mu_std = alpha + beta*x_std;\n",
            "}\n",
            "model {\n",
            "  alpha ~ normal(pmualpha, psalpha);\n",
            "  beta ~ normal(pmubeta, psbeta);\n",
            "  y_std ~ normal(mu_std, sigma_std);\n",
            "}\n",
            "generated quantities {\n",
            "  vector[N] mu;\n",
            "  real<lower=0> sigma;\n",
            "  real ypred;\n",
            "  vector[N] log_lik;\n",
            "  mu = mu_std*sd(y) + mean(y);\n",
            "  sigma = sigma_std*sd(y);\n",
            "  ypred = normal_rng((alpha + beta*xpred_std)*sd(y)+mean(y), sigma);\n",
            "  for (i in 1:N)\n",
            "    log_lik[i] = normal_lpdf(y[i] | mu[i], sigma);\n",
            "}\n"
          ],
          "name": "stdout"
        }
      ]
    },
    {
      "cell_type": "markdown",
      "metadata": {
        "id": "t1U_dSJ58hPD"
      },
      "source": [
        "##  Convergence Diagnostics\n"
      ]
    },
    {
      "cell_type": "markdown",
      "metadata": {
        "id": "yVVm6zNz_NI_"
      },
      "source": [
        "For both of the models, Rhat values are exactly 1.0, n_eff values are large enough and none of the iterations saturated the maximum tree depth of 10 or ended with a divergence. These factors make it fair to assume that the fits are successful and the iterations have converged."
      ]
    },
    {
      "cell_type": "markdown",
      "metadata": {
        "id": "UdaKzBsuTV6V"
      },
      "source": [
        "## Posterior Predictive Checking"
      ]
    },
    {
      "cell_type": "markdown",
      "metadata": {
        "id": "Dd0feJ2NTlL0"
      },
      "source": [
        "To make sure our model is reasonable we can compare the drawn samples of the model to the original data points to see if our model generates approximately same data. In this case, we will make a quick test and take our prediction of the year 2018, which average is 693 with the weak prior and see, if it makes sense according to the data. The generated data point average seems to be reasonable .\n",
        "\n",
        "However, we can see from the visualized regression of our model hypothesis among the original data points that it fits poorly. The data points are scattered in great range around, and the hypothesis can only predict the between average. Thus it is not quite reliable to use for exact prediction, but it can be used to see, if the  average precipitation is rising."
      ]
    },
    {
      "cell_type": "markdown",
      "metadata": {
        "id": "rPPoHDWxD4l4"
      },
      "source": [
        "## Model Comparison"
      ]
    },
    {
      "cell_type": "markdown",
      "metadata": {
        "id": "okv1b3I8En_x"
      },
      "source": [
        "To compare the models that resulted from the two different priors, we apply LOO cross validation. The first prior is weak with distribution N(0, 1) and the other is very weak with distribution N(0, 10)."
      ]
    },
    {
      "cell_type": "code",
      "metadata": {
        "id": "6NHbPHjNEIz2",
        "colab": {
          "base_uri": "https://localhost:8080/",
          "height": 945
        },
        "outputId": "cf6e0a51-f7b5-46b7-e0e3-5377953f8366"
      },
      "source": [
        "import psis\n",
        "\n",
        "samples_loo, samples_loos, samples_ks = psis.psisloo(samples.get('log_lik'))\n",
        "weak_samples_loo, weak_samples_loos, weak_samples_ks = psis.psisloo(super_weak_samples.get('log_lik'))\n",
        "\n",
        "print(\"samples Loo:\", samples_loo)\n",
        "print(\"samples Ks:\", samples_ks)\n",
        "print(\"Weak samples Loo:\", weak_samples_loo)\n",
        "print(\"Weak samples Ks:\", weak_samples_ks)\n",
        "\n",
        "plt.figure()\n",
        "plt.hist(samples_ks)\n",
        "plt.title('Linear gaussian model ks')\n",
        "plt.xlabel('k')\n",
        "plt.ylabel('Number of occurrences')\n",
        "\n",
        "plt.figure()\n",
        "plt.hist(weak_samples_ks)\n",
        "plt.title('Linear gaussian model with weak prior ks')\n",
        "plt.xlabel('k')\n",
        "plt.ylabel('Number of occurrences')\n",
        "plt.show()"
      ],
      "execution_count": null,
      "outputs": [
        {
          "output_type": "stream",
          "text": [
            "samples Loo: -348.84509912593796\n",
            "samples Ks: [ 0.11241377  0.24776654  0.03074809  0.12682159 -0.01490508  0.02933241\n",
            "  0.15546824  0.02974977  0.01786208  0.17165336  0.0452657   0.06146334\n",
            "  0.02573217  0.09195953  0.07983878  0.12252664  0.07960304 -0.05177079\n",
            " -0.11141244 -0.00306501 -0.0090333  -0.0723351  -0.03430314  0.08094621\n",
            " -0.04238571  0.05159065  0.0097933  -0.05219248 -0.08376427 -0.01059355\n",
            " -0.01793445 -0.00853669 -0.04170976 -0.03701463  0.10680883 -0.05183657\n",
            "  0.10429235  0.00387595  0.03492214  0.09878887  0.05390194  0.25067155\n",
            "  0.12477951 -0.04058225  0.00117956  0.1671957   0.08747888  0.0158258\n",
            "  0.07387845  0.07888464  0.13187147  0.07580996  0.15833087  0.14764984\n",
            "  0.22555337  0.23719542  0.06550449]\n",
            "Weak samples Loo: -348.82986319872424\n",
            "Weak samples Ks: [ 0.04692485  0.17042272  0.07744185  0.12379842  0.15863224  0.06436226\n",
            "  0.13704038 -0.05609719  0.0050286   0.19045635  0.06404349  0.17330171\n",
            " -0.08537841  0.19855063  0.06481402  0.01964034  0.04804943 -0.0794702\n",
            "  0.00428395  0.14542609  0.23512208 -0.06917946 -0.05762233  0.08284734\n",
            "  0.12912477  0.07886185 -0.07913841  0.00792462 -0.09511545  0.09035458\n",
            " -0.08958242 -0.01328221 -0.01765087 -0.08960018  0.00339692 -0.20728793\n",
            " -0.01971715  0.10211652 -0.10844192 -0.05847225 -0.04391676  0.21185194\n",
            " -0.03288892  0.05623664 -0.21661701  0.07462633 -0.02014784 -0.0113933\n",
            " -0.10531252 -0.08257526 -0.00264677  0.17636756  0.14713068  0.1249346\n",
            "  0.10335005  0.16294519  0.07367655]\n"
          ],
          "name": "stdout"
        },
        {
          "output_type": "display_data",
          "data": {
            "image/png": "[encoded data removed]",
            "text/plain": [
              "<matplotlib.figure.Figure at 0x7fd54e529da0>"
            ]
          },
          "metadata": {
            "tags": []
          }
        },
        {
          "output_type": "display_data",
          "data": {
            "image/png": "[encoded data removed]",
            "text/plain": [
              "<matplotlib.figure.Figure at 0x7fd55088c828>"
            ]
          },
          "metadata": {
            "tags": []
          }
        }
      ]
    },
    {
      "cell_type": "markdown",
      "metadata": {
        "id": "dYvJ3xfME3iR"
      },
      "source": [
        "The k values from both models are below 0.7, which means the models should both be reliable. Additionally, the Loo values and the results from the fits of the models are very similar and sensible. Therefore, the prior choice doesn't have a large effect in this case and the models perform too similarly to make conclusions about which is better."
      ]
    },
    {
      "cell_type": "markdown",
      "metadata": {
        "id": "cmt_PJ9hTvxo"
      },
      "source": [
        "## Conclusion"
      ]
    },
    {
      "cell_type": "markdown",
      "metadata": {
        "id": "-Y3gRVWETyj3"
      },
      "source": [
        "As mentioned, the resulting models are both seemingly reliable. Using the model with priors N(0, 1), for example, the probability for the beta value, or the slope of the fitted linear model, being positive is roughly 97.6%. Its mean is 0.27 and 95% interval is [1.2e-3, 0.53]. These values indicate that precipitation in Helsinki is likely indeed rising, albeit slightly."
      ]
    },
    {
      "cell_type": "markdown",
      "metadata": {
        "id": "Hb6n_w-UFZrt"
      },
      "source": [
        "## Discussion Of Problems, And Potential Improvements"
      ]
    },
    {
      "cell_type": "markdown",
      "metadata": {
        "id": "refMGI6aHAa_"
      },
      "source": [
        "In this case, the models provide seemingly reliable information, but still, our data set is relatively small and simple in the perspective of features. It is possible to increase the reliability by gathering more data points and features, such as precipitation percentage. As described in this document, the data was simplified. We could use all the available features and compare its results to our simplified results. Even if the linear regression seems to fit well into the data, we don't know if it's underfitted. It could be informative to try polynomial regression to see if there is light non-linear changes in the precipitation. Lastly, it could be useful to try more different priors to see whether that impacts the results."
      ]
    }
  ]
}